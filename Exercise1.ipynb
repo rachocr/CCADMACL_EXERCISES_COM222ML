{
  "nbformat": 4,
  "nbformat_minor": 0,
  "metadata": {
    "colab": {
      "provenance": [],
      "include_colab_link": true
    },
    "kernelspec": {
      "name": "python3",
      "display_name": "Python 3"
    },
    "language_info": {
      "name": "python"
    }
  },
  "cells": [
    {
      "cell_type": "markdown",
      "metadata": {
        "id": "view-in-github",
        "colab_type": "text"
      },
      "source": [
        "<a href=\"https://colab.research.google.com/github/rachocr/CCADMACL_EXERCISES_COM222ML/blob/main/Exercise1.ipynb\" target=\"_parent\"><img src=\"https://colab.research.google.com/assets/colab-badge.svg\" alt=\"Open In Colab\"/></a>"
      ]
    },
    {
      "cell_type": "markdown",
      "source": [
        "# Exercise 1\n",
        "\n",
        "Use all feature selection methods to find the best features"
      ],
      "metadata": {
        "id": "wyguhJBCREPq"
      }
    },
    {
      "cell_type": "markdown",
      "source": [
        "## Dataset Information\n",
        "\n",
        "## Features\n",
        "\n",
        "Number of Instances: 20640\n",
        "\n",
        "Number of Attributes: 8 numeric, predictive attributes and the target\n",
        "\n",
        "Attribute Information:\n",
        "\n",
        "MedInc - median income in block group\n",
        "\n",
        "HouseAge - median house age in block group\n",
        "\n",
        "AveRooms - average number of rooms per household\n",
        "\n",
        "AveBedrms - average number of bedrooms per household\n",
        "\n",
        "Population - block group population\n",
        "\n",
        "AveOccup - average number of household members\n",
        "\n",
        "Latitude - block group latitude\n",
        "\n",
        "Longitude - block group longitude\n",
        "\n",
        "## Target\n",
        "The target variable is the median house value for California districts, expressed in hundreds of thousands of dollars ($100,000)."
      ],
      "metadata": {
        "id": "W1nEzxdXQbpH"
      }
    },
    {
      "cell_type": "code",
      "execution_count": null,
      "metadata": {
        "id": "ZAVjjtJ9PVED"
      },
      "outputs": [],
      "source": [
        "from sklearn.datasets import fetch_california_housing\n",
        "import pandas as pd"
      ]
    },
    {
      "cell_type": "code",
      "source": [
        "housing = fetch_california_housing(as_frame=True)\n",
        "df = pd.concat([housing.data, housing.target], axis=1)"
      ],
      "metadata": {
        "id": "N12mwL2GPX48"
      },
      "execution_count": null,
      "outputs": []
    },
    {
      "cell_type": "markdown",
      "source": [
        "1. Use any filter method to select the best features"
      ],
      "metadata": {
        "id": "6tqvZqTtRgRe"
      }
    },
    {
      "cell_type": "markdown",
      "source": [
        "##Mutual_info_classif"
      ],
      "metadata": {
        "id": "y43h8w8xi6bL"
      }
    },
    {
      "cell_type": "code",
      "source": [
        "from sklearn.feature_selection import mutual_info_regression\n",
        "\n",
        "X = housing.data\n",
        "y = housing.target\n",
        "\n",
        "threshold = 5\n",
        "high_score_features = []\n",
        "feature_scores = mutual_info_regression(X, y, random_state=0)\n",
        "\n",
        "print(\"Best Features:\\n\")\n",
        "for score, f_name in sorted(zip(feature_scores, X.columns), reverse=True)[:threshold]:\n",
        "    print(f\"{f_name}: {score}\")\n",
        "    high_score_features.append(f_name)\n",
        "\n",
        "X_high_score = X[high_score_features]\n",
        "\n",
        "print(X_high_score.columns)\n"
      ],
      "metadata": {
        "colab": {
          "base_uri": "https://localhost:8080/"
        },
        "id": "qep4T-uai9JN",
        "outputId": "45980c3e-04fd-404e-f3a5-3263aa16101b"
      },
      "execution_count": null,
      "outputs": [
        {
          "output_type": "stream",
          "name": "stdout",
          "text": [
            "Best Features:\n",
            "\n",
            "Longitude: 0.4018195828289901\n",
            "MedInc: 0.38764599736258987\n",
            "Latitude: 0.3706566756286751\n",
            "AveRooms: 0.10362300978707584\n",
            "AveOccup: 0.07254907984228254\n",
            "Index(['Longitude', 'MedInc', 'Latitude', 'AveRooms', 'AveOccup'], dtype='object')\n"
          ]
        }
      ]
    },
    {
      "cell_type": "markdown",
      "source": [
        "2. Use any wrapper method to select the best features"
      ],
      "metadata": {
        "id": "eZ5kAdM7RpDD"
      }
    },
    {
      "cell_type": "markdown",
      "source": [],
      "metadata": {
        "id": "nbQAqKkni13j"
      }
    },
    {
      "cell_type": "markdown",
      "source": [
        "##Recursive Feature Elimination"
      ],
      "metadata": {
        "id": "n2KAUyF8fALH"
      }
    },
    {
      "cell_type": "code",
      "source": [
        "housing = fetch_california_housing(as_frame=True)\n",
        "df = pd.concat([housing.data, housing.target], axis=1)\n",
        "\n",
        "X = housing.data\n",
        "y = housing.target\n",
        "\n",
        "min_features_to_select = 5\n",
        "model = Ridge()\n",
        "cv = KFold(5)\n",
        "\n",
        "rfecv = RFECV(\n",
        "    estimator=model,\n",
        "    step=1,\n",
        "    cv=cv,\n",
        "    scoring=\"r2\",\n",
        "    min_features_to_select=min_features_to_select,\n",
        "    n_jobs=2,\n",
        ")\n",
        "rfecv.fit(X, y)\n",
        "\n",
        "print(f\"Best number of features: {rfecv.n_features_}\")\n",
        "\n",
        "plt.figure()\n",
        "plt.xlabel(\"Number of features selected\")\n",
        "plt.ylabel(\"Mean test R^2\")\n",
        "\n",
        "mean_test_scores = rfecv.cv_results_['mean_test_score']\n",
        "n_features = range(min_features_to_select, len(mean_test_scores) + min_features_to_select)\n",
        "\n",
        "plt.plot(n_features, mean_test_scores, marker='o')\n",
        "plt.title(\"Recursive Feature Elimination \\nwith California Housing dataset\")\n",
        "plt.show()\n",
        "\n",
        "best_features = X.columns[rfecv.support_]\n",
        "print(\"\\nBest features selected:\")\n",
        "for feature in best_features:\n",
        "    print(feature)"
      ],
      "metadata": {
        "id": "h1godUPeRpTF",
        "colab": {
          "base_uri": "https://localhost:8080/",
          "height": 649
        },
        "outputId": "15a1a0da-178b-45b9-dc87-c45fab82a0eb"
      },
      "execution_count": null,
      "outputs": [
        {
          "output_type": "stream",
          "name": "stdout",
          "text": [
            "Best number of features: 6\n"
          ]
        },
        {
          "output_type": "display_data",
          "data": {
            "text/plain": [
              "<Figure size 640x480 with 1 Axes>"
            ],
            "image/png": "[encoded data removed]"
          },
          "metadata": {}
        },
        {
          "output_type": "stream",
          "name": "stdout",
          "text": [
            "\n",
            "Best features selected:\n",
            "MedInc\n",
            "HouseAge\n",
            "AveRooms\n",
            "AveBedrms\n",
            "Latitude\n",
            "Longitude\n"
          ]
        }
      ]
    },
    {
      "cell_type": "markdown",
      "source": [
        "3. Use any embedded methood to select the best features"
      ],
      "metadata": {
        "id": "Qx3bvgx9fRMP"
      }
    },
    {
      "cell_type": "markdown",
      "source": [
        "##Random Forest\n"
      ],
      "metadata": {
        "id": "uobr3CuZiRLk"
      }
    },
    {
      "cell_type": "code",
      "source": [
        "from sklearn.ensemble import RandomForestRegressor\n",
        "\n",
        "forest_model = RandomForestRegressor(random_state=0).fit(X, y)\n",
        "\n",
        "forest_feature_importance = pd.Series(forest_model.feature_importances_, index=X.columns)\n",
        "\n",
        "# print(\"Feature Importance from Random Forest:\")\n",
        "# print(forest_feature_importance.sort_values(ascending=False))\n",
        "\n",
        "top_forest_features = forest_feature_importance.sort_values(ascending=False).head(5)\n",
        "print(\"Best Features from Random Forest:\\n\")\n",
        "print(top_forest_features)"
      ],
      "metadata": {
        "colab": {
          "base_uri": "https://localhost:8080/"
        },
        "id": "qniHThpQiTqL",
        "outputId": "d5bcffe5-b552-4663-a308-f1f369807f9f"
      },
      "execution_count": null,
      "outputs": [
        {
          "output_type": "stream",
          "name": "stdout",
          "text": [
            "Best Features from Random Forest:\n",
            "\n",
            "MedInc       0.520642\n",
            "AveOccup     0.136854\n",
            "Latitude     0.092836\n",
            "Longitude    0.091147\n",
            "HouseAge     0.052878\n",
            "dtype: float64\n"
          ]
        }
      ]
    },
    {
      "cell_type": "markdown",
      "source": [
        "#Prediction"
      ],
      "metadata": {
        "id": "--dBzissn9yf"
      }
    },
    {
      "cell_type": "code",
      "source": [
        "from sklearn.datasets import fetch_california_housing\n",
        "from sklearn.model_selection import train_test_split\n",
        "from sklearn.linear_model import Ridge\n",
        "from sklearn.feature_selection import mutual_info_regression, RFECV\n",
        "from sklearn.ensemble import RandomForestRegressor\n",
        "from sklearn.metrics import mean_squared_error\n",
        "import pandas as pd\n",
        "import numpy as np\n",
        "\n",
        "housing = fetch_california_housing(as_frame=True)\n",
        "X = housing.data\n",
        "y = housing.target\n",
        "\n",
        "X_train, X_test, y_train, y_test = train_test_split(X, y, test_size=0.2, random_state=42)\n",
        "\n",
        "def evaluate_model(model, X_train, X_test, y_train, y_test):\n",
        "    model.fit(X_train, y_train)\n",
        "    y_pred = model.predict(X_test)\n",
        "    mse = mean_squared_error(y_test, y_pred)\n",
        "    rmse = np.sqrt(mse)  # Calculate RMSE\n",
        "    return rmse\n",
        "\n",
        "filter_features = ['Longitude', 'MedInc', 'Latitude', 'AveRooms', 'AveOccup']\n",
        "X_train_filter = X_train[filter_features]\n",
        "X_test_filter = X_test[filter_features]\n",
        "\n",
        "wrapper_features = ['MedInc','HouseAge','AveRooms','AveBedrms','Latitude']\n",
        "X_train_wrapper = X_train[wrapper_features]\n",
        "X_test_wrapper = X_test[wrapper_features]\n",
        "\n",
        "embedded_features = ['MedInc', 'AveOccup', 'Latitude', 'Longitude', 'HouseAge']\n",
        "X_train_embedded = X_train[embedded_features]\n",
        "X_test_embedded = X_test[embedded_features]\n",
        "\n",
        "mi = mutual_info_regression(X_train_filter, y_train)\n",
        "mi_sorted_idx = np.argsort(mi)[::-1]\n",
        "top_5_mi_features = X_train_filter.columns[mi_sorted_idx][:5]\n",
        "\n",
        "X_train_mi = X_train_filter[top_5_mi_features]\n",
        "X_test_mi = X_test_filter[top_5_mi_features]\n",
        "model = Ridge()\n",
        "rmse_mi = evaluate_model(model, X_train_mi, X_test_mi, y_train, y_test)\n",
        "\n",
        "rfecv = RFECV(estimator=Ridge(), step=1, cv=5, scoring='neg_mean_squared_error')\n",
        "rfecv.fit(X_train_wrapper, y_train)\n",
        "top_5_rfecv_features = X_train_wrapper.columns[rfecv.support_][:5]\n",
        "\n",
        "X_train_rfecv = X_train_wrapper[top_5_rfecv_features]\n",
        "X_test_rfecv = X_test_wrapper[top_5_rfecv_features]\n",
        "rmse_rfecv = evaluate_model(model, X_train_rfecv, X_test_rfecv, y_train, y_test)\n",
        "\n",
        "rf = RandomForestRegressor(n_estimators=100, random_state=42)\n",
        "rf.fit(X_train_embedded, y_train)\n",
        "feature_importances = pd.Series(rf.feature_importances_, index=X_train_embedded.columns)\n",
        "top_5_rf_features = feature_importances.nlargest(5).index\n",
        "\n",
        "X_train_rf = X_train_embedded[top_5_rf_features]\n",
        "X_test_rf = X_test_embedded[top_5_rf_features]\n",
        "rmse_rf = evaluate_model(model, X_train_rf, X_test_rf, y_train, y_test)\n",
        "\n",
        "rmse_default = evaluate_model(model, X_train, X_test, y_train, y_test)\n",
        "\n",
        "print(\"Performance for each feature selection method (RMSE):\")\n",
        "print(f\"1. Default Model (All Features) - RMSE: {rmse_default}\")\n",
        "print(f\"2. Filter Method (Mutual Information) - RMSE: {rmse_mi}\")\n",
        "print(f\"3. Wrapper Method (Recursive Feature Elimination) - RMSE: {rmse_rfecv}\")\n",
        "print(f\"4. Embedded Method (Random Forest) - RMSE: {rmse_rf}\")"
      ],
      "metadata": {
        "colab": {
          "base_uri": "https://localhost:8080/"
        },
        "id": "Iv_s_9RJoDfn",
        "outputId": "eb396be1-cd2b-4d9f-ff26-f99437342754"
      },
      "execution_count": null,
      "outputs": [
        {
          "output_type": "stream",
          "name": "stdout",
          "text": [
            "Performance for each feature selection method (RMSE):\n",
            "1. Default Model (All Features) - RMSE: 0.7455222779992702\n",
            "2. Filter Method (Mutual Information) - RMSE: 0.747795071207304\n",
            "3. Wrapper Method (Recursive Feature Elimination) - RMSE: 0.7988459660615648\n",
            "4. Embedded Method (Random Forest) - RMSE: 0.7401097523728755\n"
          ]
        }
      ]
    }
  ]
}