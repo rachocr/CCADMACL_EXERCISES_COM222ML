{
  "nbformat": 4,
  "nbformat_minor": 0,
  "metadata": {
    "colab": {
      "provenance": [],
      "include_colab_link": true
    },
    "kernelspec": {
      "name": "python3",
      "display_name": "Python 3"
    },
    "language_info": {
      "name": "python"
    }
  },
  "cells": [
    {
      "cell_type": "markdown",
      "metadata": {
        "id": "view-in-github",
        "colab_type": "text"
      },
      "source": [
        "<a href=\"https://colab.research.google.com/github/rachocr/CCADMACL_EXERCISES_COM222ML/blob/main/Exercise1.ipynb\" target=\"_parent\"><img src=\"https://colab.research.google.com/assets/colab-badge.svg\" alt=\"Open In Colab\"/></a>"
      ]
    },
    {
      "cell_type": "markdown",
      "source": [
        "# Exercise 1\n",
        "\n",
        "Use all feature selection methods to find the best features"
      ],
      "metadata": {
        "id": "wyguhJBCREPq"
      }
    },
    {
      "cell_type": "markdown",
      "source": [
        "## Dataset Information\n",
        "\n",
        "## Features\n",
        "\n",
        "Number of Instances: 20640\n",
        "\n",
        "Number of Attributes: 8 numeric, predictive attributes and the target\n",
        "\n",
        "Attribute Information:\n",
        "\n",
        "MedInc - median income in block group\n",
        "\n",
        "HouseAge - median house age in block group\n",
        "\n",
        "AveRooms - average number of rooms per household\n",
        "\n",
        "AveBedrms - average number of bedrooms per household\n",
        "\n",
        "Population - block group population\n",
        "\n",
        "AveOccup - average number of household members\n",
        "\n",
        "Latitude - block group latitude\n",
        "\n",
        "Longitude - block group longitude\n",
        "\n",
        "## Target\n",
        "The target variable is the median house value for California districts, expressed in hundreds of thousands of dollars ($100,000)."
      ],
      "metadata": {
        "id": "W1nEzxdXQbpH"
      }
    },
    {
      "cell_type": "code",
      "execution_count": 93,
      "metadata": {
        "id": "ZAVjjtJ9PVED"
      },
      "outputs": [],
      "source": [
        "from sklearn.datasets import fetch_california_housing\n",
        "import pandas as pd"
      ]
    },
    {
      "cell_type": "code",
      "source": [
        "housing = fetch_california_housing(as_frame=True)\n",
        "df = pd.concat([housing.data, housing.target], axis=1)"
      ],
      "metadata": {
        "id": "N12mwL2GPX48"
      },
      "execution_count": 94,
      "outputs": []
    },
    {
      "cell_type": "markdown",
      "source": [
        "1. Use any filter method to select the best features"
      ],
      "metadata": {
        "id": "6tqvZqTtRgRe"
      }
    },
    {
      "cell_type": "markdown",
      "source": [
        "##Mutual_info_classif"
      ],
      "metadata": {
        "id": "y43h8w8xi6bL"
      }
    },
    {
      "cell_type": "code",
      "source": [
        "from sklearn.feature_selection import mutual_info_regression\n",
        "\n",
        "X = housing.data\n",
        "y = housing.target\n",
        "\n",
        "threshold = 5\n",
        "high_score_features = []\n",
        "feature_scores = mutual_info_regression(X, y, random_state=0)\n",
        "\n",
        "print(\"Best Features:\\n\")\n",
        "for score, f_name in sorted(zip(feature_scores, X.columns), reverse=True)[:threshold]:\n",
        "    print(f\"{f_name}: {score}\")\n",
        "    high_score_features.append(f_name)\n",
        "\n",
        "X_high_score = X[high_score_features]\n",
        "\n",
        "X_train, X_test, y_train, y_test = train_test_split(X_high_score, y, test_size=0.2, random_state=42)\n",
        "\n",
        "model = Ridge()\n",
        "\n",
        "model.fit(X_train, y_train)\n",
        "\n",
        "y_pred = model.predict(X_test)\n",
        "\n",
        "mse = mean_squared_error(y_test, y_pred)\n",
        "rmse = np.sqrt(mse)\n",
        "\n",
        "print(f\"\\nRMSE on test data: {rmse}\")"
      ],
      "metadata": {
        "colab": {
          "base_uri": "https://localhost:8080/"
        },
        "id": "qep4T-uai9JN",
        "outputId": "b119b2dc-6c4f-4cff-fc77-52692f0308ad"
      },
      "execution_count": 101,
      "outputs": [
        {
          "output_type": "stream",
          "name": "stdout",
          "text": [
            "Best Features:\n",
            "\n",
            "Longitude: 0.4018195828289901\n",
            "MedInc: 0.38764599736258987\n",
            "Latitude: 0.3706566756286751\n",
            "AveRooms: 0.10362300978707584\n",
            "AveOccup: 0.07254907984228254\n",
            "\n",
            "RMSE on test data: 0.747795071207304\n"
          ]
        }
      ]
    },
    {
      "cell_type": "markdown",
      "source": [
        "2. Use any wrapper method to select the best features"
      ],
      "metadata": {
        "id": "eZ5kAdM7RpDD"
      }
    },
    {
      "cell_type": "markdown",
      "source": [],
      "metadata": {
        "id": "nbQAqKkni13j"
      }
    },
    {
      "cell_type": "markdown",
      "source": [
        "##Recursive Feature Elimination"
      ],
      "metadata": {
        "id": "n2KAUyF8fALH"
      }
    },
    {
      "cell_type": "code",
      "source": [
        "from sklearn.datasets import fetch_california_housing\n",
        "from sklearn.model_selection import train_test_split, KFold\n",
        "from sklearn.linear_model import Ridge\n",
        "from sklearn.feature_selection import RFECV\n",
        "from sklearn.metrics import mean_squared_error\n",
        "import numpy as np\n",
        "import matplotlib.pyplot as plt\n",
        "\n",
        "housing = fetch_california_housing(as_frame=True)\n",
        "X = housing.data\n",
        "y = housing.target\n",
        "\n",
        "min_features_to_select = 5\n",
        "model = Ridge()\n",
        "cv = KFold(5)\n",
        "\n",
        "rfecv = RFECV(\n",
        "    estimator=model,\n",
        "    step=1,\n",
        "    cv=cv,\n",
        "    scoring=\"r2\",\n",
        "    min_features_to_select=min_features_to_select,\n",
        "    n_jobs=2,\n",
        ")\n",
        "rfecv.fit(X, y)\n",
        "\n",
        "print(f\"Best number of features: {rfecv.n_features_}\")\n",
        "\n",
        "plt.figure()\n",
        "plt.xlabel(\"Number of features selected\")\n",
        "plt.ylabel(\"Mean test R^2\")\n",
        "mean_test_scores = rfecv.cv_results_['mean_test_score']\n",
        "n_features = range(min_features_to_select, len(mean_test_scores) + min_features_to_select)\n",
        "plt.plot(n_features, mean_test_scores, marker='o')\n",
        "plt.title(\"Recursive Feature Elimination with California Housing dataset\")\n",
        "plt.show()\n",
        "\n",
        "best_features = X.columns[rfecv.support_]\n",
        "print(\"\\nBest features selected:\")\n",
        "for feature in best_features:\n",
        "    print(feature)\n",
        "\n",
        "X_selected = X[best_features]\n",
        "\n",
        "X_train, X_test, y_train, y_test = train_test_split(X_selected, y, test_size=0.2, random_state=42)\n",
        "\n",
        "model.fit(X_train, y_train)\n",
        "\n",
        "y_pred = model.predict(X_test)\n",
        "\n",
        "mse = mean_squared_error(y_test, y_pred)\n",
        "rmse = np.sqrt(mse)\n",
        "\n",
        "print(f\"\\nRMSE on test data: {rmse}\")"
      ],
      "metadata": {
        "id": "h1godUPeRpTF",
        "colab": {
          "base_uri": "https://localhost:8080/",
          "height": 663
        },
        "outputId": "8e85600f-adc0-4eaa-dce8-f1d7286b9d45"
      },
      "execution_count": 96,
      "outputs": [
        {
          "output_type": "stream",
          "name": "stdout",
          "text": [
            "Best number of features: 6\n"
          ]
        },
        {
          "output_type": "display_data",
          "data": {
            "text/plain": [
              "<Figure size 640x480 with 1 Axes>"
            ],
            "image/png": "[encoded data removed]"
          },
          "metadata": {}
        },
        {
          "output_type": "stream",
          "name": "stdout",
          "text": [
            "\n",
            "Best features selected:\n",
            "MedInc\n",
            "HouseAge\n",
            "AveRooms\n",
            "AveBedrms\n",
            "Latitude\n",
            "Longitude\n",
            "\n",
            "RMSE on test data: 0.7462419626677662\n"
          ]
        }
      ]
    },
    {
      "cell_type": "markdown",
      "source": [
        "3. Use any embedded methood to select the best features"
      ],
      "metadata": {
        "id": "Qx3bvgx9fRMP"
      }
    },
    {
      "cell_type": "markdown",
      "source": [
        "##Random Forest\n"
      ],
      "metadata": {
        "id": "uobr3CuZiRLk"
      }
    },
    {
      "cell_type": "code",
      "source": [
        "from sklearn.datasets import fetch_california_housing\n",
        "from sklearn.ensemble import RandomForestRegressor\n",
        "from sklearn.model_selection import train_test_split\n",
        "from sklearn.metrics import mean_squared_error\n",
        "import pandas as pd\n",
        "import numpy as np\n",
        "import matplotlib.pyplot as plt\n",
        "\n",
        "X = housing.data\n",
        "y = housing.target\n",
        "\n",
        "forest_model = RandomForestRegressor(random_state=0).fit(X, y)\n",
        "\n",
        "forest_feature_importance = pd.Series(forest_model.feature_importances_, index=X.columns)\n",
        "\n",
        "top_forest_features = forest_feature_importance.sort_values(ascending=False).head(5)\n",
        "print(\"Best Features from Random Forest:\\n\")\n",
        "print(top_forest_features)\n",
        "\n",
        "X_selected_forest = X[top_forest_features.index]\n",
        "\n",
        "X_train, X_test, y_train, y_test = train_test_split(X_selected_forest, y, test_size=0.2, random_state=42)\n",
        "\n",
        "forest_model.fit(X_train, y_train)\n",
        "\n",
        "y_pred = forest_model.predict(X_test)\n",
        "\n",
        "mse = mean_squared_error(y_test, y_pred)\n",
        "rmse = np.sqrt(mse)\n",
        "\n",
        "# Print RMSE\n",
        "print(f\"\\nRMSE on test data: {rmse}\")\n"
      ],
      "metadata": {
        "colab": {
          "base_uri": "https://localhost:8080/"
        },
        "id": "qniHThpQiTqL",
        "outputId": "d5e007f2-edfc-4cab-b549-3317cd65acad"
      },
      "execution_count": 104,
      "outputs": [
        {
          "output_type": "stream",
          "name": "stdout",
          "text": [
            "Best Features from Random Forest:\n",
            "\n",
            "MedInc       0.520642\n",
            "AveOccup     0.136854\n",
            "Latitude     0.092836\n",
            "Longitude    0.091147\n",
            "HouseAge     0.052878\n",
            "dtype: float64\n",
            "\n",
            "RMSE on test data: 0.5100220294476064\n"
          ]
        }
      ]
    },
    {
      "cell_type": "markdown",
      "source": [
        "##Comparison"
      ],
      "metadata": {
        "id": "qj78DaNC3BUR"
      }
    },
    {
      "cell_type": "code",
      "source": [
        "from sklearn.datasets import fetch_california_housing\n",
        "from sklearn.model_selection import train_test_split\n",
        "from sklearn.linear_model import Ridge\n",
        "from sklearn.metrics import mean_squared_error\n",
        "import numpy as np\n",
        "\n",
        "housing = fetch_california_housing(as_frame=True)\n",
        "X = housing.data\n",
        "y = housing.target\n",
        "\n",
        "X_train, X_test, y_train, y_test = train_test_split(X, y, test_size=0.2, random_state=42)\n",
        "\n",
        "model = Ridge()\n",
        "\n",
        "model.fit(X_train, y_train)\n",
        "\n",
        "y_pred = model.predict(X_test)\n",
        "mse = mean_squared_error(y_test, y_pred)\n",
        "rmse_default = np.sqrt(mse)\n",
        "\n",
        "print(f\"RMSE for Default Model (All Features): {rmse_default}\")\n"
      ],
      "metadata": {
        "colab": {
          "base_uri": "https://localhost:8080/"
        },
        "id": "iVsFLg4E3CVQ",
        "outputId": "825a8f20-e3fc-465a-f410-164d07ae784a"
      },
      "execution_count": 105,
      "outputs": [
        {
          "output_type": "stream",
          "name": "stdout",
          "text": [
            "RMSE for Default Model (All Features): 0.7455222779992702\n"
          ]
        }
      ]
    }
  ]
}